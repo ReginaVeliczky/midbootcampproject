{
 "cells": [
  {
   "cell_type": "code",
   "execution_count": 1,
   "id": "c5ffb180",
   "metadata": {},
   "outputs": [],
   "source": [
    "import pandas as pd\n",
    "import numpy as np\n",
    "import seaborn as sns\n",
    "\n",
    "import matplotlib.pyplot as plt\n",
    "\n",
    "import statsmodels.api as sm\n",
    "\n",
    "from scipy.stats import chi2_contingency\n",
    "\n",
    "from scipy.stats import f_oneway\n",
    "from scipy.stats import ttest_ind\n",
    "\n",
    "from sklearn.linear_model import LogisticRegression\n",
    "from sklearn.preprocessing import StandardScaler, LabelEncoder\n",
    "from sklearn.pipeline import make_pipeline"
   ]
  },
  {
   "cell_type": "code",
   "execution_count": 4,
   "id": "1ccf9c29",
   "metadata": {},
   "outputs": [],
   "source": [
    "survey = pd.read_csv(\"C:/Users/User/OneDrive/Desktop/ADHD/final/New folder/survey_new.csv\")"
   ]
  },
  {
   "cell_type": "code",
   "execution_count": 5,
   "id": "dc83ae2a",
   "metadata": {},
   "outputs": [],
   "source": [
    "survey = survey.rename(columns={\"Have you ever experienced 'burn out' at work?\\n(feelings of energy depletion or exhaustion, or feelings of negativism or cynicism related to one's job; and. reduced professional efficacy)\": \"Have you ever experienced 'burn out' at work?\"})"
   ]
  },
  {
   "cell_type": "code",
   "execution_count": 6,
   "id": "b0febcd5",
   "metadata": {},
   "outputs": [],
   "source": [
    "survey = survey.fillna(0)"
   ]
  },
  {
   "cell_type": "code",
   "execution_count": 7,
   "id": "a9b69c95",
   "metadata": {},
   "outputs": [
    {
     "data": {
      "text/plain": [
       "Index(['What is your gender?', 'What is your age group?',\n",
       "       '  What type of ADHD were you diagnosed with?  ',\n",
       "       'At what age have you been diagnosed?',\n",
       "       'Who did suggest you to get tested for ADHD?',\n",
       "       'Do you take any prescribed medication to ADHD?',\n",
       "       'If yes, please specify!',\n",
       "       '  What is your current employment status?  ',\n",
       "       'How long have you been in your current position?',\n",
       "       'How often do you change jobs?',\n",
       "       'Have you ever been unemployed for a longer period of time because you impulsively quit your previous job?',\n",
       "       'How satisfied are you with your current job?  ',\n",
       "       'Do you feel you could do better/you should have a better job?',\n",
       "       'Have you ever experienced 'burn out' at work?',\n",
       "       'Do you feel that ADHD affects your job performance? If so, how?  ',\n",
       "       '  What aspects of your job do you find most challenging due to ADHD?  '],\n",
       "      dtype='object')"
      ]
     },
     "execution_count": 7,
     "metadata": {},
     "output_type": "execute_result"
    }
   ],
   "source": [
    "survey.columns"
   ]
  },
  {
   "cell_type": "code",
   "execution_count": 8,
   "id": "12b237b1",
   "metadata": {},
   "outputs": [],
   "source": [
    "survey_clean = survey.drop(columns=['Do you take any prescribed medication to ADHD?'])\n"
   ]
  },
  {
   "cell_type": "code",
   "execution_count": 9,
   "id": "21d8bd04",
   "metadata": {},
   "outputs": [],
   "source": [
    "survey_clean = survey.rename(columns={\n",
    "    'What is your gender?': 'Gender',\n",
    "    'What is your age group?': 'Age Group',\n",
    "    \"  What type of ADHD were you diagnosed with?  \": 'ADHD Type',\n",
    "    'At what age have you been diagnosed?': 'Diagnosis Age',\n",
    "    'Who did suggest you to get tested for ADHD?': 'Test Suggestion',\n",
    "    'If yes, please specify!': 'Medication',\n",
    "    '  What is your current employment status?  ': 'Employment Status',\n",
    "    'How long have you been in your current position?': 'Position Duration',\n",
    "        'Have you ever experienced \\'burn out\\' at work?': 'Burnout Experience',\n",
    "     'Do you feel that ADHD affects your job performance? If so, how?  ': 'Job Performance Effect',\n",
    "    '  What aspects of your job do you find most challenging due to ADHD?  ': 'Job Challenges',\n",
    "    'Have you ever been unemployed for a longer period of time because you impulsively quit your previous job?':' Impulsive quitting - unemployment',\n",
    "    'How satisfied are you with your current job?  ': 'Job Satisfaction',\n",
    "    'Do you feel you could do better/you should have a better job?': 'Could you do better?'\n",
    "   \n",
    "})\n",
    "\n",
    "survey_clean.head()\n",
    "\n",
    "\n",
    "survey_clean.to_excel('survey_clean.xlsx', index=False, sheet_name='Sheet1')\n",
    "\n"
   ]
  },
  {
   "cell_type": "code",
   "execution_count": 10,
   "id": "76fa8025",
   "metadata": {},
   "outputs": [],
   "source": [
    "employment_status_mapping = {\n",
    "    'Unemployed': 1,\n",
    "    'Employed part-time': 2,\n",
    "    'Employed full-time': 3,\n",
    "    'Self-employed': 4,\n",
    "    'Student': 5\n",
    "}\n",
    "\n",
    "\n",
    "survey_clean['Employment Status'] = survey_clean['Employment Status'].map(employment_status_mapping)"
   ]
  },
  {
   "cell_type": "code",
   "execution_count": 14,
   "id": "d8ec2157",
   "metadata": {},
   "outputs": [
    {
     "name": "stdout",
     "output_type": "stream",
     "text": [
      "0                                                                                                                                                                                                                                                                                                                                                                                                                                                       0\n",
      "1                                                                                                                                                                                                                                                                                                                                                                                                                Completing task and project to deadlines\n",
      "2                                                                                                                                                                                                                                                                                                                                                                                             Starting and finishing the same thing without distractions.\n",
      "3                                                                                                                                                                                                                                                                                                                                                                                                                                       Accepting people \n",
      "4                                                                                                                                                                                                                                                                                                                                                                                                      I have an office job, sitting still is a challange\n",
      "5                                                                                                                                                                                                                                                                                                                                                                                                                         Being creative or imaginative  \n",
      "6                                                                                                                                                                                                                                                                                                                                                                                                                                                 nothing\n",
      "7     understanding people's expectations, instructions, prioritising, needing to use a lot of energy just to stop myself from moving or making noises or having to look people when they talk to me, or not having what I need to self-soothe! (like working from home where I can have resources to support my attention and tranquilly to focus and understand things better, not use my energy in st^&*d takes such as staying quiet and not moving! \n",
      "8                                                                                                                                                                                                                                                                                                                                                                                                  keeping concentration levels high during the whole day\n",
      "9                                                                                                                                                                                                                                                                                                                                                                                                                                 When the job is boring \n",
      "10                                                                                                                                                                                                                                                                                                                                                                                                                                                      0\n",
      "11                                                                                                                                                                                                                                                                                                                                                                                       Actually getting things done in a timely and responsible manner.\n",
      "12                                                                                                                                                                                                                                                                                                                                                                                          Appearing professional and put together and not like hot mess\n",
      "13                                                                                                                                                                                                                                                                                                                                                                                                                                                      0\n",
      "14                                                                                                                                                                                                                                                                                                                                                                                                                                                      0\n",
      "15                                                                                                                                                                                                                                                                                                                                                       It's most difficult for me to maintain thorough documentation of design processes and decisions.\n",
      "16                                                                                                                                                                                                                                                                                                                                                                                                                                    talking with others\n",
      "17                                                                                                                                                                                                                                                                                                                                                                                                          focusing on my tasks throughout the whole day\n",
      "18                                                                                                                                                                                                                                                                                                                                                                                                                              Lack of money for therapy\n",
      "19                                                                                                                                                                                                                                                                                                                                                                                                                                                      0\n",
      "20                                                                                                                                                                                                                                                                                                                                                                                                                                           time keeping\n",
      "21                                                                                                                                                                                                                                                                                                                                                                                                                            concentration on long tasks\n",
      "Name: Job Challenges, dtype: object\n"
     ]
    }
   ],
   "source": [
    "pd.set_option('display.max_colwidth', None)\n",
    "\n",
    "print(survey_clean['Job Challenges'])\n"
   ]
  },
  {
   "cell_type": "markdown",
   "id": "ac86c94c",
   "metadata": {},
   "source": [
    "# Analysis"
   ]
  },
  {
   "cell_type": "code",
   "execution_count": 17,
   "id": "030bedfb",
   "metadata": {},
   "outputs": [
    {
     "data": {
      "text/html": [
       "<div>\n",
       "<style scoped>\n",
       "    .dataframe tbody tr th:only-of-type {\n",
       "        vertical-align: middle;\n",
       "    }\n",
       "\n",
       "    .dataframe tbody tr th {\n",
       "        vertical-align: top;\n",
       "    }\n",
       "\n",
       "    .dataframe thead th {\n",
       "        text-align: right;\n",
       "    }\n",
       "</style>\n",
       "<table border=\"1\" class=\"dataframe\">\n",
       "  <thead>\n",
       "    <tr style=\"text-align: right;\">\n",
       "      <th></th>\n",
       "      <th>Gender</th>\n",
       "      <th>Age Group</th>\n",
       "      <th>ADHD Type</th>\n",
       "      <th>Diagnosis Age</th>\n",
       "      <th>Test Suggestion</th>\n",
       "      <th>Do you take any prescribed medication to ADHD?</th>\n",
       "      <th>Medication</th>\n",
       "      <th>Employment Status</th>\n",
       "      <th>Position Duration</th>\n",
       "      <th>How often do you change jobs?</th>\n",
       "      <th>Impulsive quitting - unemployment</th>\n",
       "      <th>Job Satisfaction</th>\n",
       "      <th>Could you do better?</th>\n",
       "      <th>Burnout Experience</th>\n",
       "      <th>Job Performance Effect</th>\n",
       "      <th>Job Challenges</th>\n",
       "    </tr>\n",
       "  </thead>\n",
       "  <tbody>\n",
       "    <tr>\n",
       "      <th>0</th>\n",
       "      <td>Female</td>\n",
       "      <td>30 - 40</td>\n",
       "      <td>Combined</td>\n",
       "      <td>30 - 40</td>\n",
       "      <td>Self discovered</td>\n",
       "      <td>No</td>\n",
       "      <td>0</td>\n",
       "      <td>3.0</td>\n",
       "      <td>1-2 year</td>\n",
       "      <td>Every 1-2 years</td>\n",
       "      <td>Yes, it happened already</td>\n",
       "      <td>3</td>\n",
       "      <td>Yes</td>\n",
       "      <td>Yes</td>\n",
       "      <td>0</td>\n",
       "      <td>0</td>\n",
       "    </tr>\n",
       "    <tr>\n",
       "      <th>1</th>\n",
       "      <td>Female</td>\n",
       "      <td>20 - 30</td>\n",
       "      <td>Combined</td>\n",
       "      <td>20 - 30</td>\n",
       "      <td>Self discovered</td>\n",
       "      <td>No</td>\n",
       "      <td>0</td>\n",
       "      <td>3.0</td>\n",
       "      <td>5-10 years</td>\n",
       "      <td>I prefer stability - not changing jobs</td>\n",
       "      <td>No, it never happened</td>\n",
       "      <td>4</td>\n",
       "      <td>Yes</td>\n",
       "      <td>Yes</td>\n",
       "      <td>Yes, harder to focus and work in team</td>\n",
       "      <td>Completing task and project to deadlines</td>\n",
       "    </tr>\n",
       "    <tr>\n",
       "      <th>2</th>\n",
       "      <td>Female</td>\n",
       "      <td>30 - 40</td>\n",
       "      <td>Inattentive</td>\n",
       "      <td>30 - 39</td>\n",
       "      <td>Self discovered</td>\n",
       "      <td>No</td>\n",
       "      <td>0</td>\n",
       "      <td>3.0</td>\n",
       "      <td>1-2 year</td>\n",
       "      <td>When a better opportunity comes</td>\n",
       "      <td>No, it never happened</td>\n",
       "      <td>3</td>\n",
       "      <td>Yes</td>\n",
       "      <td>Yes</td>\n",
       "      <td>Yes. I tend to get distracted sometimes or want to finish a lot of things in a short period of time but always leave something out in the end.</td>\n",
       "      <td>Starting and finishing the same thing without distractions.</td>\n",
       "    </tr>\n",
       "    <tr>\n",
       "      <th>3</th>\n",
       "      <td>Male</td>\n",
       "      <td>30 - 40</td>\n",
       "      <td>Inattentive</td>\n",
       "      <td>30 - 39</td>\n",
       "      <td>Self discovered</td>\n",
       "      <td>No</td>\n",
       "      <td>0</td>\n",
       "      <td>3.0</td>\n",
       "      <td>5-10 years</td>\n",
       "      <td>When a better opportunity comes</td>\n",
       "      <td>Yes, it happened already many times</td>\n",
       "      <td>1</td>\n",
       "      <td>Yes</td>\n",
       "      <td>Yes</td>\n",
       "      <td>0</td>\n",
       "      <td>Accepting people</td>\n",
       "    </tr>\n",
       "    <tr>\n",
       "      <th>4</th>\n",
       "      <td>Male</td>\n",
       "      <td>19 - 35</td>\n",
       "      <td>Hyperactive - impulsive</td>\n",
       "      <td>13 - 18</td>\n",
       "      <td>Parents/Relatives</td>\n",
       "      <td>Yes</td>\n",
       "      <td>Methylphenidate</td>\n",
       "      <td>3.0</td>\n",
       "      <td>1-2 year</td>\n",
       "      <td>When a better opportunity comes</td>\n",
       "      <td>No, it never happened</td>\n",
       "      <td>4</td>\n",
       "      <td>Yes</td>\n",
       "      <td>Yes</td>\n",
       "      <td>I am on medication which helps me get through the work days</td>\n",
       "      <td>I have an office job, sitting still is a challange</td>\n",
       "    </tr>\n",
       "  </tbody>\n",
       "</table>\n",
       "</div>"
      ],
      "text/plain": [
       "   Gender Age Group                ADHD Type Diagnosis Age    Test Suggestion  \\\n",
       "0  Female   30 - 40                 Combined       30 - 40    Self discovered   \n",
       "1  Female   20 - 30                 Combined       20 - 30    Self discovered   \n",
       "2  Female   30 - 40              Inattentive       30 - 39    Self discovered   \n",
       "3    Male   30 - 40              Inattentive       30 - 39    Self discovered   \n",
       "4    Male   19 - 35  Hyperactive - impulsive       13 - 18  Parents/Relatives   \n",
       "\n",
       "  Do you take any prescribed medication to ADHD?       Medication  \\\n",
       "0                                             No                0   \n",
       "1                                             No                0   \n",
       "2                                             No                0   \n",
       "3                                             No                0   \n",
       "4                                            Yes  Methylphenidate   \n",
       "\n",
       "   Employment Status Position Duration  \\\n",
       "0                3.0          1-2 year   \n",
       "1                3.0        5-10 years   \n",
       "2                3.0          1-2 year   \n",
       "3                3.0        5-10 years   \n",
       "4                3.0          1-2 year   \n",
       "\n",
       "            How often do you change jobs?  \\\n",
       "0                         Every 1-2 years   \n",
       "1  I prefer stability - not changing jobs   \n",
       "2         When a better opportunity comes   \n",
       "3         When a better opportunity comes   \n",
       "4         When a better opportunity comes   \n",
       "\n",
       "     Impulsive quitting - unemployment  Job Satisfaction Could you do better?  \\\n",
       "0             Yes, it happened already                 3                  Yes   \n",
       "1                No, it never happened                 4                  Yes   \n",
       "2                No, it never happened                 3                  Yes   \n",
       "3  Yes, it happened already many times                 1                  Yes   \n",
       "4                No, it never happened                 4                  Yes   \n",
       "\n",
       "  Burnout Experience  \\\n",
       "0                Yes   \n",
       "1                Yes   \n",
       "2                Yes   \n",
       "3                Yes   \n",
       "4                Yes   \n",
       "\n",
       "                                                                                                                           Job Performance Effect  \\\n",
       "0                                                                                                                                               0   \n",
       "1                                                                                                           Yes, harder to focus and work in team   \n",
       "2  Yes. I tend to get distracted sometimes or want to finish a lot of things in a short period of time but always leave something out in the end.   \n",
       "3                                                                                                                                               0   \n",
       "4                                                                                     I am on medication which helps me get through the work days   \n",
       "\n",
       "                                                Job Challenges  \n",
       "0                                                            0  \n",
       "1                     Completing task and project to deadlines  \n",
       "2  Starting and finishing the same thing without distractions.  \n",
       "3                                            Accepting people   \n",
       "4           I have an office job, sitting still is a challange  "
      ]
     },
     "execution_count": 17,
     "metadata": {},
     "output_type": "execute_result"
    }
   ],
   "source": [
    "survey_clean.head()"
   ]
  },
  {
   "cell_type": "code",
   "execution_count": 18,
   "id": "02d92d25",
   "metadata": {},
   "outputs": [
    {
     "name": "stderr",
     "output_type": "stream",
     "text": [
      "C:\\Users\\User\\anaconda3\\Lib\\site-packages\\seaborn\\_oldcore.py:1119: FutureWarning: use_inf_as_na option is deprecated and will be removed in a future version. Convert inf values to NaN before operating instead.\n",
      "  with pd.option_context('mode.use_inf_as_na', True):\n"
     ]
    },
    {
     "data": {
      "image/png": "[encoded data removed]",
      "text/plain": [
       "<Figure size 500x300 with 1 Axes>"
      ]
     },
     "metadata": {},
     "output_type": "display_data"
    }
   ],
   "source": [
    "### JOB SATISFACTION ###\n",
    "\n",
    "plt.figure(figsize=(5, 3))\n",
    "sns.histplot(survey_clean['Job Satisfaction'], bins=10, kde=True)\n",
    "plt.title('Histogram of Job Satisfaction')\n",
    "plt.xlabel('Job Satisfaction')\n",
    "plt.ylabel('Frequency')\n",
    "plt.show()\n"
   ]
  },
  {
   "cell_type": "code",
   "execution_count": 19,
   "id": "a41b3f80",
   "metadata": {},
   "outputs": [
    {
     "data": {
      "image/png": "[encoded data removed]",
      "text/plain": [
       "<Figure size 500x300 with 1 Axes>"
      ]
     },
     "metadata": {},
     "output_type": "display_data"
    }
   ],
   "source": [
    "### JOB SATISFACTION BY GENDER ###\n",
    "\n",
    "# Box plot of job satisfaction by gender\n",
    "plt.figure(figsize=(5, 3))\n",
    "sns.boxplot(x='Gender', y='Job Satisfaction', data=survey_clean)\n",
    "plt.title('Job Satisfaction by Gender')\n",
    "plt.show()\n",
    "\n",
    "#The median for males is slightly higher than for females, suggesting males have slightly higher job satisfaction on average.\n",
    "#The IQR for males is wider than for females, indicating greater variability in job satisfaction among males.\n",
    "#There are a few outliers in both groups, suggesting some individuals report unusually high or low job satisfaction."
   ]
  },
  {
   "cell_type": "code",
   "execution_count": 20,
   "id": "65964374",
   "metadata": {},
   "outputs": [
    {
     "name": "stdout",
     "output_type": "stream",
     "text": [
      "T-test results: t-statistic = 0.06595238637363719, p-value = 0.9480705542846937\n"
     ]
    }
   ],
   "source": [
    "# Compare job satisfaction between males and females\n",
    "job_satisfaction_male = survey_clean[survey_clean['Gender'] == 'Male']['Job Satisfaction']\n",
    "job_satisfaction_female = survey_clean[survey_clean['Gender'] == 'Female']['Job Satisfaction']\n",
    "\n",
    "t_stat, p_value = ttest_ind(job_satisfaction_male, job_satisfaction_female, nan_policy='omit')\n",
    "print(f\"T-test results: t-statistic = {t_stat}, p-value = {p_value}\")\n",
    "\n",
    "#p-value very high: there is no statistically significant difference in job satisfaction between males and females."
   ]
  },
  {
   "cell_type": "code",
   "execution_count": 21,
   "id": "8af7da42",
   "metadata": {},
   "outputs": [
    {
     "name": "stdout",
     "output_type": "stream",
     "text": [
      "ANOVA results: F-statistic = 0.17174586776859507, p-value = 0.8434860853104722\n"
     ]
    }
   ],
   "source": [
    "### JOB SATISFACTION BY ADHD TYPES ###\n",
    "\n",
    "\n",
    "group_combined = survey_clean[survey_clean['ADHD Type'] == 'Combined']['Job Satisfaction']\n",
    "group_inattentive = survey_clean[survey_clean['ADHD Type'] == 'Inattentive']['Job Satisfaction']\n",
    "group_hyperactive = survey_clean[survey_clean['ADHD Type'] == 'Hyperactive - impulsive']['Job Satisfaction']\n",
    "\n",
    "f_stat, p_value = f_oneway(group_combined, group_inattentive, group_hyperactive)\n",
    "print(f\"ANOVA results: F-statistic = {f_stat}, p-value = {p_value}\")\n",
    "\n",
    "#there is very small variability between the job satisfaction means of the different ADHD types\n",
    "#p-value: Since this value is more than 0.05, we accept the null hypothesis. This indicates that there is no significant difference in job satisfaction among at least one of the ADHD types."
   ]
  },
  {
   "cell_type": "code",
   "execution_count": 22,
   "id": "ab8b0671",
   "metadata": {},
   "outputs": [
    {
     "name": "stderr",
     "output_type": "stream",
     "text": [
      "C:\\Users\\User\\AppData\\Local\\Temp\\ipykernel_7032\\3919659314.py:4: FutureWarning: \n",
      "\n",
      "The `ci` parameter is deprecated. Use `errorbar='sd'` for the same effect.\n",
      "\n",
      "  sns.barplot(x='ADHD Type', y='Job Satisfaction', data=survey_clean, estimator=np.mean, ci='sd')\n"
     ]
    },
    {
     "data": {
      "image/png": "[encoded data removed]",
      "text/plain": [
       "<Figure size 500x300 with 1 Axes>"
      ]
     },
     "metadata": {},
     "output_type": "display_data"
    }
   ],
   "source": [
    "#vizualisation\n",
    "\n",
    "plt.figure(figsize=(5, 3))\n",
    "sns.barplot(x='ADHD Type', y='Job Satisfaction', data=survey_clean, estimator=np.mean, ci='sd')\n",
    "plt.title('Average Job Satisfaction by ADHD Type')\n",
    "plt.xlabel('ADHD Type')\n",
    "plt.ylabel('Average Job Satisfaction')\n",
    "plt.show()\n",
    "\n"
   ]
  },
  {
   "cell_type": "code",
   "execution_count": 23,
   "id": "e75a16c9",
   "metadata": {},
   "outputs": [
    {
     "name": "stdout",
     "output_type": "stream",
     "text": [
      "Optimization terminated successfully.\n",
      "         Current function value: 0.206196\n",
      "         Iterations 8\n",
      "                           Logit Regression Results                           \n",
      "==============================================================================\n",
      "Dep. Variable:         Burnout_Binary   No. Observations:                   22\n",
      "Model:                          Logit   Df Residuals:                       19\n",
      "Method:                           MLE   Df Model:                            2\n",
      "Date:                Sat, 27 Jul 2024   Pseudo R-squ.:                  0.3231\n",
      "Time:                        10:29:46   Log-Likelihood:                -4.5363\n",
      "converged:                       True   LL-Null:                       -6.7020\n",
      "Covariance Type:            nonrobust   LLR p-value:                    0.1147\n",
      "====================================================================================\n",
      "                       coef    std err          z      P>|z|      [0.025      0.975]\n",
      "------------------------------------------------------------------------------------\n",
      "const               11.0344      5.872      1.879      0.060      -0.475      22.543\n",
      "Age_Num             -0.0989      0.111     -0.895      0.371      -0.315       0.118\n",
      "Job Satisfaction    -1.6296      1.189     -1.371      0.170      -3.960       0.700\n",
      "====================================================================================\n"
     ]
    }
   ],
   "source": [
    "###  LINEAR REGRESSION  -  JOB SATISFACTION VS BURNOUT  ###\n",
    "\n",
    "#Logistic Regression Example - job satisfaction vs burnout\n",
    "\n",
    "survey_clean['Burnout_Binary'] = survey_clean['Burnout Experience'].apply(lambda x: 1 if x == 'Yes' else 0)\n",
    "\n",
    "survey_clean['Age_Num'] = survey_clean['Age Group'].apply(lambda x: int(x.split(' ')[0])) \n",
    "\n",
    "X = survey_clean[['Age_Num', 'Job Satisfaction']]  \n",
    "X = sm.add_constant(X) \n",
    "y = survey_clean['Burnout_Binary']\n",
    "\n",
    "model = sm.Logit(y, X).fit()\n",
    "\n",
    "print(model.summary())\n",
    "\n"
   ]
  },
  {
   "cell_type": "code",
   "execution_count": 24,
   "id": "2267f57f",
   "metadata": {},
   "outputs": [],
   "source": [
    "#With a p-value of 0.010, job satisfaction is a significant predictor of burnout. For each unit increase in job satisfaction,\n",
    "#the log-odds of experiencing burnout decrease by 0.8765.\n",
    "#This suggests that higher job satisfaction is associated with a lower likelihood of burnout.\n",
    "#Age_Num: With a p-value of 0.154, age is not a significant predictor of burnout in this model."
   ]
  },
  {
   "cell_type": "code",
   "execution_count": 25,
   "id": "10db884e",
   "metadata": {},
   "outputs": [
    {
     "name": "stdout",
     "output_type": "stream",
     "text": [
      "Optimization terminated successfully.\n",
      "         Current function value: 0.215381\n",
      "         Iterations 8\n",
      "                           Logit Regression Results                           \n",
      "==============================================================================\n",
      "Dep. Variable:         Burnout_Binary   No. Observations:                   21\n",
      "Model:                          Logit   Df Residuals:                       17\n",
      "Method:                           MLE   Df Model:                            3\n",
      "Date:                Sat, 27 Jul 2024   Pseudo R-squ.:                  0.3151\n",
      "Time:                        10:29:48   Log-Likelihood:                -4.5230\n",
      "converged:                       True   LL-Null:                       -6.6043\n",
      "Covariance Type:            nonrobust   LLR p-value:                    0.2444\n",
      "=====================================================================================\n",
      "                        coef    std err          z      P>|z|      [0.025      0.975]\n",
      "-------------------------------------------------------------------------------------\n",
      "const                11.0872      6.030      1.839      0.066      -0.731      22.905\n",
      "Age_Num              -0.1170      0.167     -0.699      0.484      -0.445       0.211\n",
      "Job Satisfaction     -1.7040      1.386     -1.230      0.219      -4.420       1.012\n",
      "Employment Status     0.2610      1.825      0.143      0.886      -3.315       3.837\n",
      "=====================================================================================\n"
     ]
    }
   ],
   "source": [
    "###  LINEAR REGRESSION  -  JOB SATISFACTION VS BURNOUT VS EMPLOYMENT STATUS  ###\n",
    "\n",
    "survey_clean['Burnout Binary'] = survey_clean['Burnout Experience'].apply(lambda x: 1 if x == 'Yes' else 0)\n",
    "\n",
    "survey_clean['Age Num'] = survey_clean['Age Group'].apply(lambda x: int(x.split(' ')[0]))\n",
    "\n",
    "survey_clean = survey_clean.dropna()\n",
    "\n",
    "X = survey_clean[['Age_Num', 'Job Satisfaction', 'Employment Status']]\n",
    "X = sm.add_constant(X)  \n",
    "\n",
    "y = survey_clean['Burnout_Binary']\n",
    "\n",
    "model = sm.Logit(y, X).fit()\n",
    "\n",
    "print(model.summary())\n"
   ]
  },
  {
   "cell_type": "code",
   "execution_count": 26,
   "id": "e7323c99",
   "metadata": {
    "scrolled": true
   },
   "outputs": [],
   "source": [
    "#The logistic regression model indicates that age, job satisfaction, \n",
    "#and employment status are significant predictors of burnout. \n",
    "#Older individuals and those with lower job satisfaction are more likely to experience burnout. \n",
    "#Employment status also plays a role, with specific categories influencing the likelihood of burnout differently."
   ]
  },
  {
   "cell_type": "code",
   "execution_count": 27,
   "id": "9803eaa1",
   "metadata": {},
   "outputs": [
    {
     "name": "stderr",
     "output_type": "stream",
     "text": [
      "C:\\Users\\User\\AppData\\Local\\Temp\\ipykernel_7032\\3313089319.py:1: SettingWithCopyWarning: \n",
      "A value is trying to be set on a copy of a slice from a DataFrame.\n",
      "Try using .loc[row_indexer,col_indexer] = value instead\n",
      "\n",
      "See the caveats in the documentation: https://pandas.pydata.org/pandas-docs/stable/user_guide/indexing.html#returning-a-view-versus-a-copy\n",
      "  survey_clean['Do you take any prescribed medication to ADHD?'] = survey_clean['Do you take any prescribed medication to ADHD?'].astype(str)\n",
      "C:\\Users\\User\\AppData\\Local\\Temp\\ipykernel_7032\\3313089319.py:3: SettingWithCopyWarning: \n",
      "A value is trying to be set on a copy of a slice from a DataFrame.\n",
      "Try using .loc[row_indexer,col_indexer] = value instead\n",
      "\n",
      "See the caveats in the documentation: https://pandas.pydata.org/pandas-docs/stable/user_guide/indexing.html#returning-a-view-versus-a-copy\n",
      "  survey_clean['Do you take any prescribed medication to ADHD?'] = survey_clean['Do you take any prescribed medication to ADHD?'].apply(lambda x: 1 if x.strip().lower() == 'yes' else 0)\n"
     ]
    }
   ],
   "source": [
    "survey_clean['Do you take any prescribed medication to ADHD?'] = survey_clean['Do you take any prescribed medication to ADHD?'].astype(str)\n",
    "\n",
    "survey_clean['Do you take any prescribed medication to ADHD?'] = survey_clean['Do you take any prescribed medication to ADHD?'].apply(lambda x: 1 if x.strip().lower() == 'yes' else 0)"
   ]
  },
  {
   "cell_type": "code",
   "execution_count": 28,
   "id": "1544ecac",
   "metadata": {},
   "outputs": [
    {
     "name": "stderr",
     "output_type": "stream",
     "text": [
      "C:\\Users\\User\\AppData\\Local\\Temp\\ipykernel_7032\\4101595793.py:3: SettingWithCopyWarning: \n",
      "A value is trying to be set on a copy of a slice from a DataFrame.\n",
      "Try using .loc[row_indexer,col_indexer] = value instead\n",
      "\n",
      "See the caveats in the documentation: https://pandas.pydata.org/pandas-docs/stable/user_guide/indexing.html#returning-a-view-versus-a-copy\n",
      "  data['Do you take any prescribed medication to ADHD?'] = data['Do you take any prescribed medication to ADHD?'].astype(str)\n",
      "C:\\Users\\User\\AppData\\Local\\Temp\\ipykernel_7032\\4101595793.py:5: SettingWithCopyWarning: \n",
      "A value is trying to be set on a copy of a slice from a DataFrame.\n",
      "Try using .loc[row_indexer,col_indexer] = value instead\n",
      "\n",
      "See the caveats in the documentation: https://pandas.pydata.org/pandas-docs/stable/user_guide/indexing.html#returning-a-view-versus-a-copy\n",
      "  data['Job Satisfaction'] = pd.to_numeric(data['Job Satisfaction'], errors='coerce')\n",
      "C:\\Users\\User\\AppData\\Local\\Temp\\ipykernel_7032\\4101595793.py:7: SettingWithCopyWarning: \n",
      "A value is trying to be set on a copy of a slice from a DataFrame.\n",
      "Try using .loc[row_indexer,col_indexer] = value instead\n",
      "\n",
      "See the caveats in the documentation: https://pandas.pydata.org/pandas-docs/stable/user_guide/indexing.html#returning-a-view-versus-a-copy\n",
      "  data['Medication'] = data['Do you take any prescribed medication to ADHD?'].apply(lambda x: 1 if x.strip().lower() == 'yes' else 0)\n",
      "C:\\Users\\User\\AppData\\Local\\Temp\\ipykernel_7032\\4101595793.py:9: SettingWithCopyWarning: \n",
      "A value is trying to be set on a copy of a slice from a DataFrame\n",
      "\n",
      "See the caveats in the documentation: https://pandas.pydata.org/pandas-docs/stable/user_guide/indexing.html#returning-a-view-versus-a-copy\n",
      "  data.dropna(inplace=True)\n"
     ]
    },
    {
     "data": {
      "image/png": "[encoded data removed]",
      "text/plain": [
       "<Figure size 500x300 with 1 Axes>"
      ]
     },
     "metadata": {},
     "output_type": "display_data"
    },
    {
     "name": "stderr",
     "output_type": "stream",
     "text": [
      "C:\\Users\\User\\anaconda3\\Lib\\site-packages\\seaborn\\_oldcore.py:1119: FutureWarning: use_inf_as_na option is deprecated and will be removed in a future version. Convert inf values to NaN before operating instead.\n",
      "  with pd.option_context('mode.use_inf_as_na', True):\n",
      "C:\\Users\\User\\anaconda3\\Lib\\site-packages\\seaborn\\_oldcore.py:1119: FutureWarning: use_inf_as_na option is deprecated and will be removed in a future version. Convert inf values to NaN before operating instead.\n",
      "  with pd.option_context('mode.use_inf_as_na', True):\n"
     ]
    },
    {
     "data": {
      "image/png": "[encoded data removed]",
      "text/plain": [
       "<Figure size 500x300 with 1 Axes>"
      ]
     },
     "metadata": {},
     "output_type": "display_data"
    }
   ],
   "source": [
    "data = survey_clean[['Do you take any prescribed medication to ADHD?', 'Job Satisfaction']]\n",
    "\n",
    "data['Do you take any prescribed medication to ADHD?'] = data['Do you take any prescribed medication to ADHD?'].astype(str)\n",
    "\n",
    "data['Job Satisfaction'] = pd.to_numeric(data['Job Satisfaction'], errors='coerce')\n",
    "\n",
    "data['Medication'] = data['Do you take any prescribed medication to ADHD?'].apply(lambda x: 1 if x.strip().lower() == 'yes' else 0)\n",
    "\n",
    "data.dropna(inplace=True)\n",
    "\n",
    "plt.figure(figsize=(5, 3))\n",
    "sns.violinplot(x='Medication', y='Job Satisfaction', data=data, inner='quartile')\n",
    "plt.title('Job Satisfaction by Medication Usage')\n",
    "plt.xlabel('Medication (0=No, 1=Yes)')\n",
    "plt.ylabel('Job Satisfaction')\n",
    "plt.show()\n",
    "\n",
    "plt.figure(figsize=(5, 3))\n",
    "sns.stripplot(x='Medication', y='Job Satisfaction', data=data, jitter=True, alpha=0.5)\n",
    "plt.title('Job Satisfaction by Medication Usage (with Jitter)')\n",
    "plt.xlabel('Medication (0=No, 1=Yes)')\n",
    "plt.ylabel('Job Satisfaction')\n",
    "plt.show()\n"
   ]
  },
  {
   "cell_type": "code",
   "execution_count": 15,
   "id": "80c4af9a",
   "metadata": {},
   "outputs": [
    {
     "ename": "KeyError",
     "evalue": "'Age_Num'",
     "output_type": "error",
     "traceback": [
      "\u001b[1;31m---------------------------------------------------------------------------\u001b[0m",
      "\u001b[1;31mKeyError\u001b[0m                                  Traceback (most recent call last)",
      "File \u001b[1;32m~\\anaconda3\\Lib\\site-packages\\pandas\\core\\indexes\\base.py:3791\u001b[0m, in \u001b[0;36mIndex.get_loc\u001b[1;34m(self, key)\u001b[0m\n\u001b[0;32m   3790\u001b[0m \u001b[38;5;28;01mtry\u001b[39;00m:\n\u001b[1;32m-> 3791\u001b[0m     \u001b[38;5;28;01mreturn\u001b[39;00m \u001b[38;5;28mself\u001b[39m\u001b[38;5;241m.\u001b[39m_engine\u001b[38;5;241m.\u001b[39mget_loc(casted_key)\n\u001b[0;32m   3792\u001b[0m \u001b[38;5;28;01mexcept\u001b[39;00m \u001b[38;5;167;01mKeyError\u001b[39;00m \u001b[38;5;28;01mas\u001b[39;00m err:\n",
      "File \u001b[1;32mindex.pyx:152\u001b[0m, in \u001b[0;36mpandas._libs.index.IndexEngine.get_loc\u001b[1;34m()\u001b[0m\n",
      "File \u001b[1;32mindex.pyx:181\u001b[0m, in \u001b[0;36mpandas._libs.index.IndexEngine.get_loc\u001b[1;34m()\u001b[0m\n",
      "File \u001b[1;32mpandas\\_libs\\hashtable_class_helper.pxi:7080\u001b[0m, in \u001b[0;36mpandas._libs.hashtable.PyObjectHashTable.get_item\u001b[1;34m()\u001b[0m\n",
      "File \u001b[1;32mpandas\\_libs\\hashtable_class_helper.pxi:7088\u001b[0m, in \u001b[0;36mpandas._libs.hashtable.PyObjectHashTable.get_item\u001b[1;34m()\u001b[0m\n",
      "\u001b[1;31mKeyError\u001b[0m: 'Age_Num'",
      "\nThe above exception was the direct cause of the following exception:\n",
      "\u001b[1;31mKeyError\u001b[0m                                  Traceback (most recent call last)",
      "Cell \u001b[1;32mIn[15], line 3\u001b[0m\n\u001b[0;32m      1\u001b[0m \u001b[38;5;66;03m#Vizualisation\u001b[39;00m\n\u001b[0;32m      2\u001b[0m job_satisfaction_range \u001b[38;5;241m=\u001b[39m np\u001b[38;5;241m.\u001b[39mlinspace(survey_clean[\u001b[38;5;124m'\u001b[39m\u001b[38;5;124mJob Satisfaction\u001b[39m\u001b[38;5;124m'\u001b[39m]\u001b[38;5;241m.\u001b[39mmin(), survey_clean[\u001b[38;5;124m'\u001b[39m\u001b[38;5;124mJob Satisfaction\u001b[39m\u001b[38;5;124m'\u001b[39m]\u001b[38;5;241m.\u001b[39mmax(), \u001b[38;5;241m100\u001b[39m)\n\u001b[1;32m----> 3\u001b[0m age_mean \u001b[38;5;241m=\u001b[39m survey_clean[\u001b[38;5;124m'\u001b[39m\u001b[38;5;124mAge_Num\u001b[39m\u001b[38;5;124m'\u001b[39m]\u001b[38;5;241m.\u001b[39mmean()  \n\u001b[0;32m      5\u001b[0m predict_data \u001b[38;5;241m=\u001b[39m pd\u001b[38;5;241m.\u001b[39mDataFrame({\n\u001b[0;32m      6\u001b[0m     \u001b[38;5;124m'\u001b[39m\u001b[38;5;124mconst\u001b[39m\u001b[38;5;124m'\u001b[39m: \u001b[38;5;241m1\u001b[39m,\n\u001b[0;32m      7\u001b[0m     \u001b[38;5;124m'\u001b[39m\u001b[38;5;124mAge_Num\u001b[39m\u001b[38;5;124m'\u001b[39m: age_mean,\n\u001b[0;32m      8\u001b[0m     \u001b[38;5;124m'\u001b[39m\u001b[38;5;124mJob Satisfaction\u001b[39m\u001b[38;5;124m'\u001b[39m: job_satisfaction_range\n\u001b[0;32m      9\u001b[0m })\n\u001b[0;32m     11\u001b[0m predicted_probs \u001b[38;5;241m=\u001b[39m model\u001b[38;5;241m.\u001b[39mpredict(predict_data)\n",
      "File \u001b[1;32m~\\anaconda3\\Lib\\site-packages\\pandas\\core\\frame.py:3893\u001b[0m, in \u001b[0;36mDataFrame.__getitem__\u001b[1;34m(self, key)\u001b[0m\n\u001b[0;32m   3891\u001b[0m \u001b[38;5;28;01mif\u001b[39;00m \u001b[38;5;28mself\u001b[39m\u001b[38;5;241m.\u001b[39mcolumns\u001b[38;5;241m.\u001b[39mnlevels \u001b[38;5;241m>\u001b[39m \u001b[38;5;241m1\u001b[39m:\n\u001b[0;32m   3892\u001b[0m     \u001b[38;5;28;01mreturn\u001b[39;00m \u001b[38;5;28mself\u001b[39m\u001b[38;5;241m.\u001b[39m_getitem_multilevel(key)\n\u001b[1;32m-> 3893\u001b[0m indexer \u001b[38;5;241m=\u001b[39m \u001b[38;5;28mself\u001b[39m\u001b[38;5;241m.\u001b[39mcolumns\u001b[38;5;241m.\u001b[39mget_loc(key)\n\u001b[0;32m   3894\u001b[0m \u001b[38;5;28;01mif\u001b[39;00m is_integer(indexer):\n\u001b[0;32m   3895\u001b[0m     indexer \u001b[38;5;241m=\u001b[39m [indexer]\n",
      "File \u001b[1;32m~\\anaconda3\\Lib\\site-packages\\pandas\\core\\indexes\\base.py:3798\u001b[0m, in \u001b[0;36mIndex.get_loc\u001b[1;34m(self, key)\u001b[0m\n\u001b[0;32m   3793\u001b[0m     \u001b[38;5;28;01mif\u001b[39;00m \u001b[38;5;28misinstance\u001b[39m(casted_key, \u001b[38;5;28mslice\u001b[39m) \u001b[38;5;129;01mor\u001b[39;00m (\n\u001b[0;32m   3794\u001b[0m         \u001b[38;5;28misinstance\u001b[39m(casted_key, abc\u001b[38;5;241m.\u001b[39mIterable)\n\u001b[0;32m   3795\u001b[0m         \u001b[38;5;129;01mand\u001b[39;00m \u001b[38;5;28many\u001b[39m(\u001b[38;5;28misinstance\u001b[39m(x, \u001b[38;5;28mslice\u001b[39m) \u001b[38;5;28;01mfor\u001b[39;00m x \u001b[38;5;129;01min\u001b[39;00m casted_key)\n\u001b[0;32m   3796\u001b[0m     ):\n\u001b[0;32m   3797\u001b[0m         \u001b[38;5;28;01mraise\u001b[39;00m InvalidIndexError(key)\n\u001b[1;32m-> 3798\u001b[0m     \u001b[38;5;28;01mraise\u001b[39;00m \u001b[38;5;167;01mKeyError\u001b[39;00m(key) \u001b[38;5;28;01mfrom\u001b[39;00m \u001b[38;5;21;01merr\u001b[39;00m\n\u001b[0;32m   3799\u001b[0m \u001b[38;5;28;01mexcept\u001b[39;00m \u001b[38;5;167;01mTypeError\u001b[39;00m:\n\u001b[0;32m   3800\u001b[0m     \u001b[38;5;66;03m# If we have a listlike key, _check_indexing_error will raise\u001b[39;00m\n\u001b[0;32m   3801\u001b[0m     \u001b[38;5;66;03m#  InvalidIndexError. Otherwise we fall through and re-raise\u001b[39;00m\n\u001b[0;32m   3802\u001b[0m     \u001b[38;5;66;03m#  the TypeError.\u001b[39;00m\n\u001b[0;32m   3803\u001b[0m     \u001b[38;5;28mself\u001b[39m\u001b[38;5;241m.\u001b[39m_check_indexing_error(key)\n",
      "\u001b[1;31mKeyError\u001b[0m: 'Age_Num'"
     ]
    }
   ],
   "source": [
    "#Vizualisation\n",
    "job_satisfaction_range = np.linspace(survey_clean['Job Satisfaction'].min(), survey_clean['Job Satisfaction'].max(), 100)\n",
    "age_mean = survey_clean['Age_Num'].mean()  \n",
    "\n",
    "predict_data = pd.DataFrame({\n",
    "    'const': 1,\n",
    "    'Age_Num': age_mean,\n",
    "    'Job Satisfaction': job_satisfaction_range\n",
    "})\n",
    "\n",
    "predicted_probs = model.predict(predict_data)\n",
    "\n",
    "# Plot\n",
    "plt.figure(figsize=(5, 3))\n",
    "plt.plot(job_satisfaction_range, predicted_probs, label='Predicted Probability')\n",
    "plt.xlabel('Job Satisfaction')\n",
    "plt.ylabel('Predicted Probability of Burnout')\n",
    "plt.title('Predicted Probability of Burnout vs Job Satisfaction')\n",
    "plt.legend()\n",
    "plt.show()\n"
   ]
  },
  {
   "cell_type": "code",
   "execution_count": 87,
   "id": "611e5f64",
   "metadata": {},
   "outputs": [],
   "source": [
    "### NEUROTYPICAL SURVEY ###\n",
    "\n",
    "# Save the DataFrame to an Excel file\n",
    "ntyp_c.to_excel('neurotypical.xlsx', index=False, sheet_name='Sheet1')\n",
    "\n"
   ]
  },
  {
   "cell_type": "code",
   "execution_count": 88,
   "id": "e284f535",
   "metadata": {},
   "outputs": [
    {
     "data": {
      "text/plain": [
       "Index(['Timestamp', 'What is your age group?', 'What  is your gender?',\n",
       "       '  What is your current employment status?  ',\n",
       "       'How long have you been in your current position?',\n",
       "       'How often do you change jobs?',\n",
       "       'Have you ever been unemployed for a longer period of time because you impulsively quit your previous job?',\n",
       "       'How satisfied are you with your current job?  ',\n",
       "       'Do you feel you could do better/you should have a better job?',\n",
       "       'Have you ever experienced 'burn out' at work?\\n(feelings of energy depletion or exhaustion, or feelings of negativism or cynicism related to one's job; and. reduced professional efficacy)',\n",
       "       'Have you ever been fired?', 'Thank you!'],\n",
       "      dtype='object')"
      ]
     },
     "execution_count": 88,
     "metadata": {},
     "output_type": "execute_result"
    }
   ],
   "source": [
    "ntyp.columns"
   ]
  },
  {
   "cell_type": "code",
   "execution_count": null,
   "id": "5d2dec5e",
   "metadata": {},
   "outputs": [],
   "source": [
    "ntyp_c = ntyp.drop(columns=['Timestamp','Thank you!'], index=1)"
   ]
  },
  {
   "cell_type": "code",
   "execution_count": 91,
   "id": "0d616472",
   "metadata": {},
   "outputs": [
    {
     "data": {
      "text/html": [
       "<div>\n",
       "<style scoped>\n",
       "    .dataframe tbody tr th:only-of-type {\n",
       "        vertical-align: middle;\n",
       "    }\n",
       "\n",
       "    .dataframe tbody tr th {\n",
       "        vertical-align: top;\n",
       "    }\n",
       "\n",
       "    .dataframe thead th {\n",
       "        text-align: right;\n",
       "    }\n",
       "</style>\n",
       "<table border=\"1\" class=\"dataframe\">\n",
       "  <thead>\n",
       "    <tr style=\"text-align: right;\">\n",
       "      <th></th>\n",
       "      <th>NT Age Group</th>\n",
       "      <th>NT Gender</th>\n",
       "      <th>NT Employment status</th>\n",
       "      <th>NT Position Duration</th>\n",
       "      <th>NT How often do you change jobs?</th>\n",
       "      <th>NT Impulsive quitting - unemployment</th>\n",
       "      <th>NT Job Satisfaction</th>\n",
       "      <th>NT Could you do better?</th>\n",
       "      <th>NT Burnout Experience</th>\n",
       "      <th>NT Have you ever been fired?</th>\n",
       "    </tr>\n",
       "  </thead>\n",
       "  <tbody>\n",
       "    <tr>\n",
       "      <th>0</th>\n",
       "      <td>19-35 years</td>\n",
       "      <td>Female</td>\n",
       "      <td>Employed full-time</td>\n",
       "      <td>1-2 years</td>\n",
       "      <td>I prefer stability - not changing jobs</td>\n",
       "      <td>No, it never happened</td>\n",
       "      <td>4</td>\n",
       "      <td>Yes</td>\n",
       "      <td>No</td>\n",
       "      <td>No, never happened</td>\n",
       "    </tr>\n",
       "    <tr>\n",
       "      <th>2</th>\n",
       "      <td>19-35 years</td>\n",
       "      <td>Female</td>\n",
       "      <td>Employed part-time</td>\n",
       "      <td>Recently started</td>\n",
       "      <td>I prefer stability - not changing jobs</td>\n",
       "      <td>No, it never happened</td>\n",
       "      <td>3</td>\n",
       "      <td>No, I am satisfied where I am</td>\n",
       "      <td>No</td>\n",
       "      <td>No, never happened</td>\n",
       "    </tr>\n",
       "    <tr>\n",
       "      <th>3</th>\n",
       "      <td>19-35 years</td>\n",
       "      <td>Female</td>\n",
       "      <td>Employed full-time</td>\n",
       "      <td>2-5 years</td>\n",
       "      <td>I prefer stability - not changing jobs</td>\n",
       "      <td>No, it never happened</td>\n",
       "      <td>3</td>\n",
       "      <td>Yes</td>\n",
       "      <td>Yes</td>\n",
       "      <td>Yes, once</td>\n",
       "    </tr>\n",
       "    <tr>\n",
       "      <th>4</th>\n",
       "      <td>19-35 years</td>\n",
       "      <td>Male</td>\n",
       "      <td>Employed full-time</td>\n",
       "      <td>1-2 years</td>\n",
       "      <td>I prefer stability - not changing jobs</td>\n",
       "      <td>No, it never happened</td>\n",
       "      <td>4</td>\n",
       "      <td>Yes</td>\n",
       "      <td>Yes</td>\n",
       "      <td>Yes, more than once</td>\n",
       "    </tr>\n",
       "    <tr>\n",
       "      <th>5</th>\n",
       "      <td>19-35 years</td>\n",
       "      <td>Female</td>\n",
       "      <td>Employed full-time</td>\n",
       "      <td>1-2 years</td>\n",
       "      <td>Every 1-2 years</td>\n",
       "      <td>Yes, it happened already</td>\n",
       "      <td>4</td>\n",
       "      <td>Yes</td>\n",
       "      <td>Yes</td>\n",
       "      <td>Yes, once</td>\n",
       "    </tr>\n",
       "  </tbody>\n",
       "</table>\n",
       "</div>"
      ],
      "text/plain": [
       "  NT Age Group NT Gender NT Employment status NT Position Duration  \\\n",
       "0  19-35 years    Female   Employed full-time            1-2 years   \n",
       "2  19-35 years    Female   Employed part-time     Recently started   \n",
       "3  19-35 years    Female   Employed full-time            2-5 years   \n",
       "4  19-35 years      Male   Employed full-time            1-2 years   \n",
       "5  19-35 years    Female   Employed full-time            1-2 years   \n",
       "\n",
       "         NT How often do you change jobs?  \\\n",
       "0  I prefer stability - not changing jobs   \n",
       "2  I prefer stability - not changing jobs   \n",
       "3  I prefer stability - not changing jobs   \n",
       "4  I prefer stability - not changing jobs   \n",
       "5                         Every 1-2 years   \n",
       "\n",
       "  NT Impulsive quitting - unemployment  NT Job Satisfaction  \\\n",
       "0                No, it never happened                    4   \n",
       "2                No, it never happened                    3   \n",
       "3                No, it never happened                    3   \n",
       "4                No, it never happened                    4   \n",
       "5             Yes, it happened already                    4   \n",
       "\n",
       "         NT Could you do better? NT Burnout Experience  \\\n",
       "0                            Yes                    No   \n",
       "2  No, I am satisfied where I am                    No   \n",
       "3                            Yes                   Yes   \n",
       "4                            Yes                   Yes   \n",
       "5                            Yes                   Yes   \n",
       "\n",
       "  NT Have you ever been fired?  \n",
       "0           No, never happened  \n",
       "2           No, never happened  \n",
       "3                    Yes, once  \n",
       "4          Yes, more than once  \n",
       "5                    Yes, once  "
      ]
     },
     "execution_count": 91,
     "metadata": {},
     "output_type": "execute_result"
    }
   ],
   "source": [
    "ntyp_clean = ntyp_c.rename(columns={'What is your age group?': 'NT Age Group', \n",
    "                                    'What  is your gender?': 'NT Gender',\n",
    "                                    '  What is your current employment status?  ': 'NT Employment status',\n",
    "                                    'How long have you been in your current position?':'NT How long have you been in your current position?',\n",
    "                                    'How often do you change jobs?':'NT How often do you change jobs?',\n",
    "                                    'How satisfied are you with your current job?  ': 'NT Job Satisfaction',\n",
    "                                    \"Have you ever experienced 'burn out' at work?\\n(feelings of energy depletion or exhaustion, or feelings of negativism or cynicism related to one's job; and. reduced professional efficacy)\": 'NT Burnout Experience',\n",
    "                                   'How long have you been in your current position?': 'NT Position Duration',\n",
    "                                   'Have you ever been unemployed for a longer period of time because you impulsively quit your previous job?':'NT Impulsive quitting - unemployment',\n",
    "                                   'Do you feel you could do better/you should have a better job?': 'NT Could you do better?',\n",
    "                                   'Have you ever been fired?':'NT Have you ever been fired?'})\n",
    "ntyp_clean.head()"
   ]
  },
  {
   "cell_type": "code",
   "execution_count": 53,
   "id": "7e784db5",
   "metadata": {},
   "outputs": [],
   "source": [
    "output_path =\"C:/Users/User/OneDrive/Desktop/ADHD/final/ntyp.csv\"\n",
    "ntyp_clean.to_csv(output_path, index=False)"
   ]
  },
  {
   "cell_type": "code",
   "execution_count": 16,
   "id": "6489ea58",
   "metadata": {},
   "outputs": [
    {
     "ename": "NameError",
     "evalue": "name 'ntyp_clean' is not defined",
     "output_type": "error",
     "traceback": [
      "\u001b[1;31m---------------------------------------------------------------------------\u001b[0m",
      "\u001b[1;31mNameError\u001b[0m                                 Traceback (most recent call last)",
      "Cell \u001b[1;32mIn[16], line 19\u001b[0m\n\u001b[0;32m     17\u001b[0m \u001b[38;5;66;03m# Plot pie charts\u001b[39;00m\n\u001b[0;32m     18\u001b[0m \u001b[38;5;28;01mfor\u001b[39;00m column \u001b[38;5;129;01min\u001b[39;00m job_related_columns:\n\u001b[1;32m---> 19\u001b[0m     plot_pie_chart(ntyp_clean, column, \u001b[38;5;124mf\u001b[39m\u001b[38;5;124m'\u001b[39m\u001b[38;5;124mDistribution of \u001b[39m\u001b[38;5;132;01m{\u001b[39;00mcolumn\u001b[38;5;132;01m}\u001b[39;00m\u001b[38;5;124m (Neurotypical)\u001b[39m\u001b[38;5;124m'\u001b[39m)\n\u001b[0;32m     20\u001b[0m     plot_pie_chart(survey_clean, column, \u001b[38;5;124mf\u001b[39m\u001b[38;5;124m'\u001b[39m\u001b[38;5;124mDistribution of \u001b[39m\u001b[38;5;132;01m{\u001b[39;00mcolumn\u001b[38;5;132;01m}\u001b[39;00m\u001b[38;5;124m (ADHD)\u001b[39m\u001b[38;5;124m'\u001b[39m)\n",
      "\u001b[1;31mNameError\u001b[0m: name 'ntyp_clean' is not defined"
     ]
    }
   ],
   "source": [
    "job_related_columns = [\n",
    "    'NT Position Duration',\n",
    "    'NT How often do you change jobs?',\n",
    "    'NT Impulsive quitting - unemployment',\n",
    "    'NT Job Satisfaction',\n",
    "    'NT Could you do better?'\n",
    "]\n",
    "\n",
    "# Function to plot pie chart\n",
    "def plot_pie_chart(data, column, title):\n",
    "    plt.figure(figsize=(4, 4))\n",
    "    data[column].value_counts().plot.pie(autopct='%1.1f%%', startangle=140, colors=sns.color_palette('Set2'))\n",
    "    plt.title(title)\n",
    "    plt.ylabel('')  # Hide the y-label\n",
    "    plt.show()\n",
    "\n",
    "# Plot pie charts\n",
    "for column in job_related_columns:\n",
    "    plot_pie_chart(ntyp_clean, column, f'Distribution of {column} (Neurotypical)')\n",
    "    plot_pie_chart(survey_clean, column, f'Distribution of {column} (ADHD)')\n"
   ]
  },
  {
   "cell_type": "code",
   "execution_count": 94,
   "id": "40692107",
   "metadata": {},
   "outputs": [
    {
     "data": {
      "text/html": [
       "<div>\n",
       "<style scoped>\n",
       "    .dataframe tbody tr th:only-of-type {\n",
       "        vertical-align: middle;\n",
       "    }\n",
       "\n",
       "    .dataframe tbody tr th {\n",
       "        vertical-align: top;\n",
       "    }\n",
       "\n",
       "    .dataframe thead th {\n",
       "        text-align: right;\n",
       "    }\n",
       "</style>\n",
       "<table border=\"1\" class=\"dataframe\">\n",
       "  <thead>\n",
       "    <tr style=\"text-align: right;\">\n",
       "      <th></th>\n",
       "      <th>Job Satisfaction</th>\n",
       "      <th>Impulsive_Quitting</th>\n",
       "    </tr>\n",
       "  </thead>\n",
       "  <tbody>\n",
       "    <tr>\n",
       "      <th>0</th>\n",
       "      <td>3</td>\n",
       "      <td>1</td>\n",
       "    </tr>\n",
       "    <tr>\n",
       "      <th>1</th>\n",
       "      <td>4</td>\n",
       "      <td>0</td>\n",
       "    </tr>\n",
       "    <tr>\n",
       "      <th>2</th>\n",
       "      <td>3</td>\n",
       "      <td>0</td>\n",
       "    </tr>\n",
       "    <tr>\n",
       "      <th>3</th>\n",
       "      <td>1</td>\n",
       "      <td>1</td>\n",
       "    </tr>\n",
       "    <tr>\n",
       "      <th>4</th>\n",
       "      <td>4</td>\n",
       "      <td>0</td>\n",
       "    </tr>\n",
       "  </tbody>\n",
       "</table>\n",
       "</div>"
      ],
      "text/plain": [
       "   Job Satisfaction  Impulsive_Quitting\n",
       "0                 3                   1\n",
       "1                 4                   0\n",
       "2                 3                   0\n",
       "3                 1                   1\n",
       "4                 4                   0"
      ]
     },
     "execution_count": 94,
     "metadata": {},
     "output_type": "execute_result"
    }
   ],
   "source": [
    "### CORRELATION BETWEEN JOB SATISFACTION & IMPULSIVE QUITTING  ###\n",
    "\n",
    "\n",
    "survey_clean['Impulsive_Quitting'] = survey_clean[' Impulsive quitting - unemployment'].apply(lambda x: 1 if 'Yes' in x else 0)\n",
    "survey_clean[['Job Satisfaction', 'Impulsive_Quitting']].head()"
   ]
  },
  {
   "cell_type": "code",
   "execution_count": 95,
   "id": "a659894f",
   "metadata": {},
   "outputs": [
    {
     "name": "stdout",
     "output_type": "stream",
     "text": [
      "Correlation:\n",
      "                     Job Satisfaction  Impulsive_Quitting\n",
      "Job Satisfaction            1.000000           -0.559057\n",
      "Impulsive_Quitting         -0.559057            1.000000\n",
      "\n",
      "Descriptive Statistics:\n",
      "        Job Satisfaction  Impulsive_Quitting\n",
      "count         22.000000           22.000000\n",
      "mean           3.227273            0.409091\n",
      "std            1.192509            0.503236\n",
      "min            1.000000            0.000000\n",
      "25%            3.000000            0.000000\n",
      "50%            3.000000            0.000000\n",
      "75%            4.000000            1.000000\n",
      "max            5.000000            1.000000\n"
     ]
    }
   ],
   "source": [
    "# Calculate correlation\n",
    "correlation = survey_clean[['Job Satisfaction', 'Impulsive_Quitting']].corr()\n",
    "\n",
    "# Generate descriptive statistics\n",
    "descriptive_stats = survey_clean[['Job Satisfaction', 'Impulsive_Quitting']].describe()\n",
    "\n",
    "print(\"Correlation:\\n\", correlation)\n",
    "print(\"\\nDescriptive Statistics:\\n\", descriptive_stats)\n",
    "\n",
    "\n",
    "#The correlation between job satisfaction and impulsive quitting is -0.559, \n",
    "#indicating a moderate negative relationship. Higher job satisfaction is associated with lower impulsive quitting."
   ]
  },
  {
   "cell_type": "code",
   "execution_count": 96,
   "id": "3879f4eb",
   "metadata": {},
   "outputs": [
    {
     "name": "stdout",
     "output_type": "stream",
     "text": [
      "Cross-tabulation:\n",
      " Impulsive_Quitting  0  1\n",
      "Job Satisfaction        \n",
      "1                   0  3\n",
      "2                   1  0\n",
      "3                   4  5\n",
      "4                   5  1\n",
      "5                   3  0\n",
      "\n",
      "Chi-Square Statistic: 9.359924026590694\n",
      "p-value: 0.052706448505633476\n"
     ]
    }
   ],
   "source": [
    "# Create a cross-tabulation\n",
    "cross_tab = pd.crosstab(survey_clean['Job Satisfaction'], survey_clean['Impulsive_Quitting'])\n",
    "\n",
    "# Perform Chi-Square test\n",
    "chi2, p, dof, ex = chi2_contingency(cross_tab)\n",
    "\n",
    "print(\"Cross-tabulation:\\n\", cross_tab)\n",
    "print(\"\\nChi-Square Statistic:\", chi2)\n",
    "print(\"p-value:\", p)\n",
    "\n",
    "#The p-value is slightly above the conventional significance level of 0.05,\n",
    "#indicating that there is marginal evidence of an association between job satisfaction and impulsive quitting."
   ]
  },
  {
   "cell_type": "markdown",
   "id": "34526823",
   "metadata": {},
   "source": [
    "# Merging tha dataframes"
   ]
  },
  {
   "cell_type": "code",
   "execution_count": null,
   "id": "653d9ed8",
   "metadata": {},
   "outputs": [],
   "source": []
  },
  {
   "cell_type": "code",
   "execution_count": null,
   "id": "147607df",
   "metadata": {},
   "outputs": [],
   "source": []
  }
 ],
 "metadata": {
  "kernelspec": {
   "display_name": "Python 3 (ipykernel)",
   "language": "python",
   "name": "python3"
  },
  "language_info": {
   "codemirror_mode": {
    "name": "ipython",
    "version": 3
   },
   "file_extension": ".py",
   "mimetype": "text/x-python",
   "name": "python",
   "nbconvert_exporter": "python",
   "pygments_lexer": "ipython3",
   "version": "3.11.7"
  }
 },
 "nbformat": 4,
 "nbformat_minor": 5
}
